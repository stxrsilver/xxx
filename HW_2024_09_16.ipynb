{
 "cells": [
  {
   "cell_type": "markdown",
   "metadata": {},
   "source": [
    "### Выполните все задания"
   ]
  },
  {
   "cell_type": "markdown",
   "metadata": {},
   "source": [
    "**1. Переменные и типы данных:**\n",
    "\n",
    "   * Создайте переменную `name` и присвойте ей ваше имя в виде строки.\n",
    "   * Создайте переменную `age` и присвойте ей ваш возраст в виде целого числа.\n",
    "   * Создайте переменную `is_student` и присвойте ей значение `True`, если вы студент (не Академии ТОР, а вуза), и `False` в противном случае.\n",
    "   * Выведите на экран значения всех трех переменных, используя функцию `print()`.\n",
    "   * Измените значение переменной `age` на новое число и снова выведите ее на экран."
   ]
  },
  {
   "cell_type": "code",
   "execution_count": 4,
   "metadata": {},
   "outputs": [
    {
     "name": "stdout",
     "output_type": "stream",
     "text": [
      "Dmitriy 19 False\n",
      "27\n"
     ]
    }
   ],
   "source": [
    "name = \"Dmitriy\"\n",
    "age = 19\n",
    "is_student = False\n",
    "print(name, age, is_student)\n",
    "new_age = 27\n",
    "age = new_age\n",
    "print(age)"
   ]
  },
  {
   "cell_type": "markdown",
   "metadata": {},
   "source": [
    "**2. Математические операции:**\n",
    "\n",
    "   * Создайте переменные `a` и `b` и присвойте им значения 5 и 10 соответственно.\n",
    "   * Вычислите сумму, разность, произведение и частное от деления переменных `a` и `b`.\n",
    "   * Используйте оператор модуля (%), чтобы найти остаток от деления `b` на `a`.\n",
    "   * Выведите на экран результаты всех операций."
   ]
  },
  {
   "cell_type": "code",
   "execution_count": 5,
   "metadata": {},
   "outputs": [
    {
     "name": "stdout",
     "output_type": "stream",
     "text": [
      "Сумма (a + b): 15\n",
      "Разность (b - a): 5\n",
      "Произведение (a * b): 50\n",
      "Частное (b / a): 2.0\n",
      "Остаток от деления (b % a): 0\n"
     ]
    }
   ],
   "source": [
    "a = 5\n",
    "b = 10\n",
    "\n",
    "sum_result = a + b\n",
    "difference_result = b - a\n",
    "product_result = a * b\n",
    "quotient_result = b / a\n",
    "\n",
    "remainder_result = b % a\n",
    "\n",
    "print(\"Сумма (a + b):\", sum_result)\n",
    "print(\"Разность (b - a):\", difference_result)\n",
    "print(\"Произведение (a * b):\", product_result)\n",
    "print(\"Частное (b / a):\", quotient_result)\n",
    "print(\"Остаток от деления (b % a):\", remainder_result)"
   ]
  },
  {
   "cell_type": "markdown",
   "metadata": {},
   "source": [
    "**3. Строковые операции:**\n",
    "\n",
    "   * Создайте переменную `message` и присвойте ей строку \"Привет, мир!\".\n",
    "   * Используйте метод `upper()` для преобразования строки в верхний регистр.\n",
    "   * Используйте метод `lower()` для преобразования строки в нижний регистр.\n",
    "   * Используйте метод `replace()` для замены слова \"мир\" на \"вселенная\" в строке.\n",
    "   * Выведите на экран все полученные результаты."
   ]
  },
  {
   "cell_type": "code",
   "execution_count": 9,
   "metadata": {},
   "outputs": [
    {
     "name": "stdout",
     "output_type": "stream",
     "text": [
      "Привет, мир! ПРИВЕТ, МИР! привет, мир! Привет, вселенная!\n"
     ]
    }
   ],
   "source": [
    "message = \"Привет, мир!\"\n",
    "print(message, message.upper(), message.lower(), message.replace(\"мир\", \"вселенная\"))"
   ]
  },
  {
   "cell_type": "markdown",
   "metadata": {},
   "source": [
    "**4. Ввод и вывод:**\n",
    "\n",
    "   * Используйте функцию `input()` для получения имени пользователя с клавиатуры.\n",
    "   * Сохраните введенное имя в переменную `username`.\n",
    "   * Используйте функцию `print()` для вывода приветствия пользователю, используя его имя.\n",
    "   * Например, если пользователь введет \"Иван\", вы должны вывести \"Привет, Иван!\"."
   ]
  },
  {
   "cell_type": "code",
   "execution_count": 14,
   "metadata": {},
   "outputs": [
    {
     "name": "stdout",
     "output_type": "stream",
     "text": [
      "Привет, {username}!\n"
     ]
    }
   ],
   "source": [
    "username = input(\"Введите ваше имя: \")\n",
    "print(f\"Привет, {username}!\")"
   ]
  },
  {
   "cell_type": "markdown",
   "metadata": {},
   "source": [
    "**5. Дополнительные задания:**\n",
    "\n",
    "   * Создайте список с различными типами данных (например, строка, целое число, список, словарь).\n",
    "   * Добавьте в список новый элемент.\n",
    "   * Удалите элемент из списка.\n",
    "   * Измените значение элемента в списке.\n",
    "   * Предложите пользователю ввести что-то и пусть его ввод добавится в конец списка\n",
    "   * Выведите на экран содержимое списка."
   ]
  },
  {
   "cell_type": "code",
   "execution_count": 12,
   "metadata": {},
   "outputs": [
    {
     "name": "stdout",
     "output_type": "stream",
     "text": [
      "Содержимое списка: [100, [1, 2, 3], {'ключ': 'значение'}, 14.88, '1982втвфы']\n"
     ]
    }
   ],
   "source": [
    "my_list = [\"строка\", 42, [1, 2, 3], {\"ключ\": \"значение\"}]\n",
    "my_list.append(14.88)\n",
    "my_list.remove(\"строка\")\n",
    "my_list[0] = 100\n",
    "user_input = input(\"Введите что-то для добавления в список: \")\n",
    "my_list.append(user_input)\n",
    "print(\"Содержимое списка:\", my_list)"
   ]
  },
  {
   "cell_type": "markdown",
   "metadata": {},
   "source": [
    "#### Выполненную тетрадку загрузить на свой гитхаб в папку \"HW_2024_09_16\" и скинуть мне ссылку на нее."
   ]
  }
 ],
 "metadata": {
  "kernelspec": {
   "display_name": "Python 3",
   "language": "python",
   "name": "python3"
  },
  "language_info": {
   "codemirror_mode": {
    "name": "ipython",
    "version": 3
   },
   "file_extension": ".py",
   "mimetype": "text/x-python",
   "name": "python",
   "nbconvert_exporter": "python",
   "pygments_lexer": "ipython3",
   "version": "3.12.7"
  }
 },
 "nbformat": 4,
 "nbformat_minor": 2
}
