{
 "cells": [
  {
   "cell_type": "code",
   "execution_count": null,
   "metadata": {},
   "outputs": [],
   "source": [
    "def calculate_average(*args):\n",
    "    if not args:\n",
    "        return \"Вы забыли ввести числа для расчета среднего значения\"\n",
    "    return sum(args) / len(args)\n",
    "\n",
    "average1 = calculate_average(1, 2, 3, 4, 5)\n",
    "print(average1)\n",
    "\n",
    "average2 = calculate_average(100, 20, 354)\n",
    "print(average2)"
   ]
  }
 ],
 "metadata": {
  "language_info": {
   "name": "python"
  },
  "orig_nbformat": 4
 },
 "nbformat": 4,
 "nbformat_minor": 2
}
