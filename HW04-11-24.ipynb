{
 "cells": [
  {
   "cell_type": "code",
   "execution_count": 1,
   "metadata": {},
   "outputs": [
    {
     "name": "stdout",
     "output_type": "stream",
     "text": [
      "9\n",
      "36\n",
      "81\n"
     ]
    }
   ],
   "source": [
    "#ex 1\n",
    "def square_generator(numbers):\n",
    "    for num in numbers:\n",
    "        if num % 3 == 0:\n",
    "            yield num ** 2\n",
    "\n",
    "for square in square_generator([1, 3, 5, 6, 9]):\n",
    "    print(square)"
   ]
  },
  {
   "cell_type": "code",
   "execution_count": 2,
   "metadata": {},
   "outputs": [
    {
     "name": "stdout",
     "output_type": "stream",
     "text": [
      "hello, world!\n",
      "Hello\n",
      "HI\n"
     ]
    }
   ],
   "source": [
    "#ex 2\n",
    "transform_string = lambda s: s.upper() if len(s) < 5 else s.lower() if len(s) > 5 else s\n",
    "\n",
    "print(transform_string(\"Hello, World!\"))   \n",
    "print(transform_string(\"Hello\"))   \n",
    "print(transform_string(\"Hi\"))      "
   ]
  },
  {
   "cell_type": "code",
   "execution_count": 3,
   "metadata": {},
   "outputs": [
    {
     "name": "stdout",
     "output_type": "stream",
     "text": [
      "[12, 14, 16, 18]\n"
     ]
    }
   ],
   "source": [
    "#ex 3\n",
    "numbers = [1, 2, 3, 4, 5, 6, 7, 8, 9]\n",
    "\n",
    "new_numbers = list(map(lambda x: x + 10, filter(lambda x: x % 2 == 0, numbers)))\n",
    "\n",
    "print(new_numbers)  "
   ]
  },
  {
   "cell_type": "code",
   "execution_count": 4,
   "metadata": {},
   "outputs": [
    {
     "name": "stdout",
     "output_type": "stream",
     "text": [
      "10\n",
      "15\n"
     ]
    }
   ],
   "source": [
    "#ex 4\n",
    "def multiply_by(n):\n",
    "    def inner(x):\n",
    "        return x * n\n",
    "    return inner\n",
    "\n",
    "\n",
    "doubler = multiply_by(2)\n",
    "print(doubler(5)) \n",
    "tripler = multiply_by(3)\n",
    "print(tripler(5)) "
   ]
  }
 ],
 "metadata": {
  "kernelspec": {
   "display_name": "Python 3.8.10 64-bit",
   "language": "python",
   "name": "python3"
  },
  "language_info": {
   "codemirror_mode": {
    "name": "ipython",
    "version": 3
   },
   "file_extension": ".py",
   "mimetype": "text/x-python",
   "name": "python",
   "nbconvert_exporter": "python",
   "pygments_lexer": "ipython3",
   "version": "3.8.10"
  },
  "orig_nbformat": 4,
  "vscode": {
   "interpreter": {
    "hash": "0b176bb05cc15e1acf7692451fcf9bc2b5a39957eb7bd1c547fef102ee782caf"
   }
  }
 },
 "nbformat": 4,
 "nbformat_minor": 2
}
