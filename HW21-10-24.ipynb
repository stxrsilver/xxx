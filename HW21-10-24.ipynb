{
 "cells": [
  {
   "cell_type": "code",
   "execution_count": null,
   "metadata": {},
   "outputs": [],
   "source": [
    "# ex 1\n",
    "def fibonacci(n):\n",
    "    fib = [0, 1]\n",
    "    for i in range(2, n):\n",
    "        fib.append(fib[i-1] + fib[i-2])\n",
    "    return fib\n",
    "\n",
    "print(fibonacci(50))\n"
   ]
  },
  {
   "cell_type": "code",
   "execution_count": null,
   "metadata": {},
   "outputs": [],
   "source": [
    "# ex 2\n",
    "def sum_of_digits(number):\n",
    "    return sum(int(digit) for digit in str(number))\n",
    "\n",
    "number = int(input(\"Введите натуральное число: \"))\n",
    "print(f\"Сумма его цифр: {sum_of_digits(number)}\")"
   ]
  },
  {
   "cell_type": "code",
   "execution_count": null,
   "metadata": {},
   "outputs": [],
   "source": [
    "# ex 3\n",
    "import random\n",
    "\n",
    "def guess_number():\n",
    "    number = random.randint(1, 100)\n",
    "    attempts = 0\n",
    "    while True:\n",
    "        guess = int(input(\"Угадай число от 1 до 100: \"))\n",
    "        attempts += 1\n",
    "        if guess < number:\n",
    "            print(\"Загаданное число больше.\")\n",
    "        elif guess > number:\n",
    "            print(\"Загаданное число меньше.\")\n",
    "        else:\n",
    "            print(f\"Поздравляю! Ты угадал число за {attempts} попыток.\")\n",
    "            break\n",
    "\n",
    "guess_number()"
   ]
  },
  {
   "cell_type": "code",
   "execution_count": null,
   "metadata": {},
   "outputs": [],
   "source": [
    "# ex 4\n",
    "def draw_rectangle(height, width):\n",
    "    for _ in range(height):\n",
    "        print('*' * width)\n",
    "\n",
    "height = int(input(\"Введите высоту прямоугольника: \"))\n",
    "width = int(input(\"Введите ширину прямоугольника: \"))\n",
    "draw_rectangle(height, width)\n"
   ]
  },
  {
   "cell_type": "code",
   "execution_count": null,
   "metadata": {},
   "outputs": [],
   "source": [
    "# ex 5\n",
    "def factorial(n):\n",
    "    if n == 0 or n == 1:\n",
    "        return 1\n",
    "    return n * factorial(n - 1)\n",
    "\n",
    "number = int(input(\"Введите число для вычисления факториала: \"))\n",
    "print(f\"Факториал числа {number} равен {factorial(number)}\")"
   ]
  }
 ],
 "metadata": {
  "language_info": {
   "name": "python"
  },
  "orig_nbformat": 4
 },
 "nbformat": 4,
 "nbformat_minor": 2
}
