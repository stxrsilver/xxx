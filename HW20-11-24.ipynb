{
 "cells": [
  {
   "cell_type": "code",
   "execution_count": 1,
   "metadata": {},
   "outputs": [
    {
     "name": "stdout",
     "output_type": "stream",
     "text": [
      "Элементы, которые есть во всех кортежах:\n",
      "{5}\n"
     ]
    }
   ],
   "source": [
    "#ex 1\n",
    "def main():\n",
    "    tuple1 = (1, 2, 3, 4, 5)\n",
    "    tuple2 = (3, 4, 5, 6, 7)\n",
    "    tuple3 = (5, 6, 7, 8, 9)\n",
    "\n",
    "    common_elements = set(tuple1) & set(tuple2) & set(tuple3)\n",
    "\n",
    "    if common_elements:\n",
    "        print(\"Элементы, которые есть во всех кортежах:\")\n",
    "        print(common_elements)\n",
    "    else:\n",
    "        print(\"Нет общих элементов во всех кортежах.\")\n",
    "\n",
    "if __name__ == \"__main__\":\n",
    "    main()"
   ]
  },
  {
   "cell_type": "code",
   "execution_count": 2,
   "metadata": {},
   "outputs": [
    {
     "name": "stdout",
     "output_type": "stream",
     "text": [
      "Уникальные элементы для tuple1: {1, 2, 3}\n",
      "Уникальные элементы для tuple2: {6}\n",
      "Уникальные элементы для tuple3: {8, 9}\n"
     ]
    }
   ],
   "source": [
    "#ex 2\n",
    "def main():\n",
    "    tuple1 = (1, 2, 3, 4, 5)\n",
    "    tuple2 = (4, 5, 6, 7)\n",
    "    tuple3 = (7, 8, 9)\n",
    "\n",
    "    set1 = set(tuple1)\n",
    "    set2 = set(tuple2)\n",
    "    set3 = set(tuple3)\n",
    "\n",
    "    unique_to_tuple1 = set1 - (set2 | set3)\n",
    "    unique_to_tuple2 = set2 - (set1 | set3)\n",
    "    unique_to_tuple3 = set3 - (set1 | set2)\n",
    "\n",
    "    print(\"Уникальные элементы для tuple1:\", unique_to_tuple1)\n",
    "    print(\"Уникальные элементы для tuple2:\", unique_to_tuple2)\n",
    "    print(\"Уникальные элементы для tuple3:\", unique_to_tuple3)\n",
    "\n",
    "if __name__ == \"__main__\":\n",
    "    main()"
   ]
  },
  {
   "cell_type": "code",
   "execution_count": 3,
   "metadata": {},
   "outputs": [
    {
     "name": "stdout",
     "output_type": "stream",
     "text": [
      "Элементы, которые есть в каждом кортежах на одинаковых позициях: [1, 2, 4, 5]\n"
     ]
    }
   ],
   "source": [
    "#ex 3\n",
    "def main():\n",
    "    tuple1 = (1, 2, 3, 4, 5)\n",
    "    tuple2 = (1, 2, 6, 4, 5)\n",
    "    tuple3 = (1, 2, 7, 4, 5)\n",
    "\n",
    "    min_length = min(len(tuple1), len(tuple2), len(tuple3))\n",
    "    common_elements = []\n",
    "\n",
    "    for i in range(min_length):\n",
    "        if tuple1[i] == tuple2[i] == tuple3[i]:\n",
    "            common_elements.append(tuple1[i])\n",
    "\n",
    "    print(\"Элементы, которые есть в каждом кортежах на одинаковых позициях:\", common_elements)\n",
    "\n",
    "if __name__ == \"__main__\":\n",
    "    main()"
   ]
  }
 ],
 "metadata": {
  "kernelspec": {
   "display_name": "Python 3.8.10 64-bit",
   "language": "python",
   "name": "python3"
  },
  "language_info": {
   "codemirror_mode": {
    "name": "ipython",
    "version": 3
   },
   "file_extension": ".py",
   "mimetype": "text/x-python",
   "name": "python",
   "nbconvert_exporter": "python",
   "pygments_lexer": "ipython3",
   "version": "3.8.10"
  },
  "orig_nbformat": 4,
  "vscode": {
   "interpreter": {
    "hash": "0b176bb05cc15e1acf7692451fcf9bc2b5a39957eb7bd1c547fef102ee782caf"
   }
  }
 },
 "nbformat": 4,
 "nbformat_minor": 2
}
