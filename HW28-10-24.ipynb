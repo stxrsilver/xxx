{
 "cells": [
  {
   "cell_type": "code",
   "execution_count": null,
   "metadata": {},
   "outputs": [],
   "source": [
    "# ex 1\n",
    "def product_of_elements(lst):\n",
    "    result = 1\n",
    "    for num in lst:\n",
    "        result *= num\n",
    "    return result\n",
    "\n",
    "numbers = [1, 2, 3, 4, 5]\n",
    "print(product_of_elements(numbers))"
   ]
  },
  {
   "cell_type": "code",
   "execution_count": null,
   "metadata": {},
   "outputs": [],
   "source": [
    "# ex 2\n",
    "def find_minimum(lst):\n",
    "    return min(lst)\n",
    "\n",
    "numbers = [3, 1, 4, 1, 5, 9]\n",
    "print(find_minimum(numbers))"
   ]
  },
  {
   "cell_type": "code",
   "execution_count": null,
   "metadata": {},
   "outputs": [],
   "source": [
    "# ex 3\n",
    "def count_primes(lst):\n",
    "    def is_prime(num):\n",
    "        if num <= 1:\n",
    "            return False\n",
    "        for i in range(2, int(num**0.5) + 1):\n",
    "            if num % i == 0:\n",
    "                return False\n",
    "        return True\n",
    "\n",
    "    return sum(1 for num in lst if is_prime(num))\n",
    "\n",
    "numbers = [2, 4, 6, 7, 11, 13, 15]\n",
    "print(count_primes(numbers))"
   ]
  },
  {
   "cell_type": "code",
   "execution_count": null,
   "metadata": {},
   "outputs": [],
   "source": [
    "# ex 4\n",
    "def remove_number(lst, num):\n",
    "    count = lst.count(num)\n",
    "    lst[:] = [x for x in lst if x != num]\n",
    "    return count\n",
    "\n",
    "numbers = [1, 2, 3, 4, 2, 5, 2]\n",
    "removed_count = remove_number(numbers, 2)\n",
    "print(f\"Удалено элементов: {removed_count}\")\n",
    "print(numbers)\n"
   ]
  },
  {
   "cell_type": "code",
   "execution_count": null,
   "metadata": {},
   "outputs": [],
   "source": [
    "# ex 5\n",
    "def merge_lists(lst1, lst2):\n",
    "    return lst1 + lst2\n",
    "\n",
    "list1 = [1, 2, 3]\n",
    "list2 = [4, 5, 6]\n",
    "print(merge_lists(list1, list2))\n"
   ]
  },
  {
   "cell_type": "code",
   "execution_count": null,
   "metadata": {},
   "outputs": [],
   "source": [
    "# ex 6\n",
    "def power_of_elements(lst, power):\n",
    "    return [num ** power for num in lst]\n",
    "\n",
    "numbers = [1, 2, 3, 4]\n",
    "power = 2\n",
    "print(power_of_elements(numbers, power))"
   ]
  }
 ],
 "metadata": {
  "language_info": {
   "name": "python"
  },
  "orig_nbformat": 4
 },
 "nbformat": 4,
 "nbformat_minor": 2
}
