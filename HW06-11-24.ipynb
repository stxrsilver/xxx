{
 "cells": [
  {
   "cell_type": "code",
   "execution_count": null,
   "metadata": {},
   "outputs": [],
   "source": [
    "#ex 1\n",
    "def custom_sort(lst):\n",
    "    n = len(lst)\n",
    "    if sum(lst) / n > 0:\n",
    "        first_third = lst[:n//3]\n",
    "        middle_two_third = lst[n//3:2*n//3]\n",
    "        remaining = lst[2*n//3:]\n",
    "        \n",
    "        sorted_middle_two_third = sorted(middle_two_third)\n",
    "        sorted_first = sorted(first_third)\n",
    "        \n",
    "        sorted_lst = sorted_first + sorted_middle_two_third + remaining[::-1]\n",
    "    else:\n",
    "        sorted_lst = sorted(lst[:n//3]) + lst[n//3:][::-1]\n",
    "    \n",
    "    return sorted_lst\n",
    "\n",
    "print(custom_sort([1, 5, 3, 8, 2, 9, 12, 4, 7, 6, 11]))"
   ]
  },
  {
   "cell_type": "code",
   "execution_count": null,
   "metadata": {},
   "outputs": [],
   "source": [
    "#ex 2\n",
    "def student_grades():\n",
    "    grades = []\n",
    "    while len(grades) < 10:\n",
    "        grade = int(input(\"Введите оценку: \"))\n",
    "        if 1 <= grade <= 12:\n",
    "            grades.append(grade)\n",
    "        else:\n",
    "            print(\"Введите оценку от 1 до 12.\")\n",
    "\n",
    "    while True:\n",
    "        print(\"\\nМеню:\")\n",
    "        print(\"1. Вывод оценок\")\n",
    "        print(\"2. Пересдача экзамена\")\n",
    "        print(\"3. Выходит ли стипендия\")\n",
    "        print(\"4. Вывод отсортированного списка оценок\")\n",
    "        print(\"5. Выйти\")\n",
    "\n",
    "        choice = int(input(\"\\nВыберите действие: \"))\n",
    "        \n",
    "        if choice == 1:\n",
    "            print(grades)\n",
    "        elif choice == 2:\n",
    "            index = int(input(\"Введите номер элемента списка для пересдачи (1-10): \")) - 1\n",
    "            new_grade = int(input(f\"Введите новую оценку для элемента {index+1}: \"))\n",
    "            if 1 <= new_grade <= 12:\n",
    "                grades[index] = new_grade\n",
    "            else:\n",
    "                print(\"Введите оценку от 1 до 12.\")\n",
    "        elif choice == 3:\n",
    "            average = sum(grades) / len(grades)\n",
    "            if average >= 10.7:\n",
    "                print(\"Стипендия выходит.\")\n",
    "            else:\n",
    "                print(\"Стипендия не выходит.\")\n",
    "        elif choice == 4:\n",
    "            order = input(\"Введите 'возрастание' или 'убывание': \").lower()\n",
    "            if order == 'возрастание':\n",
    "                print(sorted(grades))\n",
    "            elif order == 'убывание':\n",
    "                print(sorted(grades, reverse=True))\n",
    "        elif choice == 5:\n",
    "            break\n",
    "        else:\n",
    "            print(\"Неверный выбор.\")\n",
    "\n",
    "student_grades()"
   ]
  },
  {
   "cell_type": "code",
   "execution_count": 2,
   "metadata": {},
   "outputs": [
    {
     "name": "stdout",
     "output_type": "stream",
     "text": [
      "[1, 2, 3, 5, 7, 8]\n"
     ]
    }
   ],
   "source": [
    "#ex 3\n",
    "def bubble_sort_improved(lst):\n",
    "    n = len(lst)\n",
    "    for i in range(n):\n",
    "        swapped = False\n",
    "        for j in range(0, n-i-1):\n",
    "            if lst[j] > lst[j+1]:\n",
    "                lst[j], lst[j+1] = lst[j+1], lst[j]\n",
    "                swapped = True\n",
    "        if not swapped:\n",
    "            break\n",
    "    return lst\n",
    "\n",
    "\n",
    "print(bubble_sort_improved([5, 3, 8, 2, 1, 7]))"
   ]
  }
 ],
 "metadata": {
  "kernelspec": {
   "display_name": "Python 3.8.10 64-bit",
   "language": "python",
   "name": "python3"
  },
  "language_info": {
   "codemirror_mode": {
    "name": "ipython",
    "version": 3
   },
   "file_extension": ".py",
   "mimetype": "text/x-python",
   "name": "python",
   "nbconvert_exporter": "python",
   "pygments_lexer": "ipython3",
   "version": "3.8.10"
  },
  "orig_nbformat": 4,
  "vscode": {
   "interpreter": {
    "hash": "0b176bb05cc15e1acf7692451fcf9bc2b5a39957eb7bd1c547fef102ee782caf"
   }
  }
 },
 "nbformat": 4,
 "nbformat_minor": 2
}
