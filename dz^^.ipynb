{
 "cells": [
  {
   "cell_type": "code",
   "execution_count": 6,
   "metadata": {},
   "outputs": [
    {
     "name": "stdout",
     "output_type": "stream",
     "text": [
      "Результат: 14.0\n"
     ]
    }
   ],
   "source": [
    "# Задание 1\n",
    "# Пользователь вводит с клавиатуры три числа. В за-\n",
    "# висимости от выбора пользователя программа выводит\n",
    "# на экран сумму трёх чисел или произведение трёх чисел\n",
    "\n",
    "num1 = float(input(\"Введите первое число: \"))\n",
    "num2 = float(input(\"Введите второе число: \"))\n",
    "num3 = float(input(\"Введите третье число: \"))\n",
    "operation = input(\"Введите операцию (+, -): \")\n",
    "\n",
    "if operation == '+':\n",
    "    print(\"Результат:\", num1 + num2 + num3)\n",
    "elif operation == '-':\n",
    "    print(\"Результат:\", num1 - num2 - num3)\n",
    "else:\n",
    "    print('Неправильная операция')\n"
   ]
  },
  {
   "cell_type": "code",
   "execution_count": 7,
   "metadata": {},
   "outputs": [
    {
     "name": "stdout",
     "output_type": "stream",
     "text": [
      "Максимум: 3.0\n"
     ]
    }
   ],
   "source": [
    "# Задание 2\n",
    "# Пользователь вводит с клавиатуры три числа. В за-\n",
    "# висимости от выбора пользователя программа выводит\n",
    "# на экран максимум из трёх, минимум из трёх или сред-\n",
    "# неарифметическое трёх чисел.\n",
    "\n",
    "\n",
    "num1 = float(input(\"Введите первое число: \"))\n",
    "num2 = float(input(\"Введите второе число: \"))\n",
    "num3 = float(input(\"Введите третье число: \"))\n",
    "choice = input(\"Выберите вид операции: 1 - максимум, 2 - минимум, 3 - среднеарифметическое: \")\n",
    "\n",
    "if choice == '1':\n",
    "    print(\"Максимум:\", max(num1, num2, num3))\n",
    "elif choice == '2':\n",
    "    print(\"Минимум:\", min(num1, num2, num3))\n",
    "elif choice == '3':\n",
    "    print(\"Среднее арифметическое:\", (num1 + num2 + num3) / 3)\n",
    "else:\n",
    "    print('Неверный выбор.')\n"
   ]
  },
  {
   "cell_type": "code",
   "execution_count": 8,
   "metadata": {},
   "outputs": [
    {
     "name": "stdout",
     "output_type": "stream",
     "text": [
      "100.0 метров = 109.4 ярдов\n"
     ]
    }
   ],
   "source": [
    "# Задание 3\n",
    "# Пользователь вводит с клавиатуры количество ме-\n",
    "# тров. В зависимости от выбора пользователя программа\n",
    "# переводит метры в мили, дюймы или ярды\n",
    "\n",
    "meters = float(input(\"Введите количество метров: \"))\n",
    "choice = input(\"Выберите: 1 - мили, 2 - дюймы, 3 - ярды: \")\n",
    "\n",
    "if choice == '1':\n",
    "    print(meters, \"метров =\", meters / 1609.34, \"миль\")\n",
    "elif choice == '2':\n",
    "    print(meters, \"метров =\", meters * 39.37, \"дюймов\")\n",
    "elif choice == '3':\n",
    "    print(meters, \"метров =\", meters * 1.094, \"ярдов\")\n",
    "else:\n",
    "    print(\"Неверный выбор!\")\n",
    "\n"
   ]
  }
 ],
 "metadata": {
  "kernelspec": {
   "display_name": "Python 3",
   "language": "python",
   "name": "python3"
  },
  "language_info": {
   "codemirror_mode": {
    "name": "ipython",
    "version": 3
   },
   "file_extension": ".py",
   "mimetype": "text/x-python",
   "name": "python",
   "nbconvert_exporter": "python",
   "pygments_lexer": "ipython3",
   "version": "3.12.7"
  },
  "orig_nbformat": 4
 },
 "nbformat": 4,
 "nbformat_minor": 2
}
