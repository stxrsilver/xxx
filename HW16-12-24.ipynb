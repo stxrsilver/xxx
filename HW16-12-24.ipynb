{
 "cells": [
  {
   "cell_type": "code",
   "execution_count": null,
   "metadata": {},
   "outputs": [],
   "source": [
    "#ex 1\n",
    "class Car:\n",
    "    default_color = \"black\"\n",
    "    default_model = \"sedan\"\n",
    "\n",
    "    def __init__(self, color=None, model=None):\n",
    "        self.color = color if color else Car.default_color\n",
    "        self.model = model if model else Car.default_model\n",
    "\n",
    "car1 = Car(color=\"red\", model=\"SUV\")\n",
    "car2 = Car()\n",
    "\n",
    "print(f\"Car1 - Color: {car1.color}, Model: {car1.model}\")\n",
    "print(f\"Car2 - Color: {car2.color}, Model: {car2.model}\")\n"
   ]
  },
  {
   "cell_type": "code",
   "execution_count": null,
   "metadata": {},
   "outputs": [],
   "source": [
    "#ex 2\n",
    "class MathOperations:\n",
    "    @staticmethod\n",
    "    def add(a, b):\n",
    "        return a + b\n",
    "\n",
    "    @staticmethod\n",
    "    def multiply(a, b):\n",
    "        return a * b\n",
    "\n",
    "print(MathOperations.add(5, 10))\n",
    "print(MathOperations.multiply(5, 10))\n",
    "\n",
    "operation = MathOperations()\n",
    "print(operation.add(5, 10))\n",
    "print(operation.multiply(5, 10))"
   ]
  },
  {
   "cell_type": "code",
   "execution_count": null,
   "metadata": {},
   "outputs": [],
   "source": [
    "#ex 3\n",
    "class Vector:\n",
    "    def __init__(self, values):\n",
    "        self.values = values\n",
    "\n",
    "    def __add__(self, other):\n",
    "        result = [a + b for a, b in zip(self.values, other.values)]\n",
    "        return Vector(result)\n",
    "\n",
    "    def __mul__(self, other):\n",
    "        result = sum(a * b for a, b in zip(self.values, other.values))\n",
    "        return result\n",
    "\n",
    "vector1 = Vector([1, 2, 3])\n",
    "vector2 = Vector([4, 5, 6])\n",
    "\n",
    "print(vector1 + vector2)\n",
    "print(vector1 * vector2)"
   ]
  },
  {
   "cell_type": "code",
   "execution_count": null,
   "metadata": {},
   "outputs": [],
   "source": [
    "#ex 4\n",
    "class Person:\n",
    "    def __init__(self, name, age):\n",
    "        self.name = name\n",
    "        self.age = age\n",
    "\n",
    "    def contains(self, attribute):\n",
    "        return attribute in [\"name\", \"age\"]\n",
    "\n",
    "person = Person(\"John\", 30)\n",
    "print(person.contains(\"name\"))  # True\n",
    "print(person.contains(\"id\"))    # False\n"
   ]
  }
 ],
 "metadata": {
  "kernelspec": {
   "display_name": "Python 3.8.10 64-bit",
   "language": "python",
   "name": "python3"
  },
  "language_info": {
   "name": "python",
   "version": "3.8.10"
  },
  "orig_nbformat": 4,
  "vscode": {
   "interpreter": {
    "hash": "0b176bb05cc15e1acf7692451fcf9bc2b5a39957eb7bd1c547fef102ee782caf"
   }
  }
 },
 "nbformat": 4,
 "nbformat_minor": 2
}
