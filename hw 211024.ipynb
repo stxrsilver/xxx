{
 "cells": [
  {
   "cell_type": "code",
   "execution_count": 3,
   "metadata": {},
   "outputs": [
    {
     "name": "stdout",
     "output_type": "stream",
     "text": [
      "“Don't compare yourself with anyone in this world… \n",
      "if you do so, you are insulting yourself.”\n",
      "\n",
      "Bill Gates\n"
     ]
    }
   ],
   "source": [
    "# Задание 1\n",
    "\n",
    "def display_quote():\n",
    "    print(\"“Don\\'t compare yourself with anyone in this world… \\nif you do so, you are insulting yourself.”\\n\\nBill Gates\")\n",
    "display_quote()"
   ]
  },
  {
   "cell_type": "code",
   "execution_count": 6,
   "metadata": {},
   "outputs": [
    {
     "name": "stdout",
     "output_type": "stream",
     "text": [
      "2468101214\n"
     ]
    }
   ],
   "source": [
    "# Задание 2\n",
    "\n",
    "def display_even_numbers(start, end):\n",
    "    for number in range(start, end + 1):\n",
    "        if number % 2 == 0:\n",
    "            print(number, end='')\n",
    "    print()\n",
    "\n",
    "display_even_numbers(2, 14)"
   ]
  },
  {
   "cell_type": "code",
   "execution_count": 11,
   "metadata": {},
   "outputs": [
    {
     "name": "stdout",
     "output_type": "stream",
     "text": [
      "*****\n",
      "*****\n",
      "*****\n",
      "*****\n",
      "*****\n",
      "\n",
      "*****\n",
      "*   *\n",
      "*   *\n",
      "*   *\n",
      "*****\n"
     ]
    }
   ],
   "source": [
    "# Задание 3\n",
    "\n",
    "def draw_sqare(size, symbol, filled):\n",
    "\n",
    "    for i in range(size):\n",
    "        if filled:\n",
    "            print(symbol * size)\n",
    "        else:\n",
    "            if i == 0 or i == size - 1:\n",
    "                print(symbol * size)\n",
    "            else:\n",
    "                print(symbol + ' ' * (size - 2) + symbol)\n",
    "                \n",
    "\n",
    "draw_sqare(5, '*', True)\n",
    "print()\n",
    "draw_sqare(5, '*', False)"
   ]
  },
  {
   "cell_type": "code",
   "execution_count": 12,
   "metadata": {},
   "outputs": [
    {
     "name": "stdout",
     "output_type": "stream",
     "text": [
      "минимальное число: -2\n"
     ]
    }
   ],
   "source": [
    "# Задание 4\n",
    "def find_minimum(a,b,c,d,e):\n",
    "    return min(a,b,c,d,e)\n",
    "\n",
    "minimum = find_minimum(3, 7, -2, 10, 0)\n",
    "print(f\"минимальное число: {minimum}\")"
   ]
  },
  {
   "cell_type": "code",
   "execution_count": 14,
   "metadata": {},
   "outputs": [
    {
     "name": "stdout",
     "output_type": "stream",
     "text": [
      "произведение чисел: 646300418472124416000000\n",
      "произведение чисел: 24\n"
     ]
    }
   ],
   "source": [
    "# Задание 5\n",
    "\n",
    "def range_product(start, end):\n",
    "    if start > end:\n",
    "        start, end = end, start\n",
    "\n",
    "    product = 1\n",
    "    for num in range(start, end + 1):\n",
    "        product *= num\n",
    "\n",
    "    return product\n",
    "\n",
    "result = range_product(25, 5) \n",
    "print(f\"произведение чисел: {result}\")\n",
    "\n",
    "result = range_product(1, 4) \n",
    "print(f\"произведение чисел: {result}\")"
   ]
  },
  {
   "cell_type": "code",
   "execution_count": 1,
   "metadata": {},
   "outputs": [
    {
     "name": "stdout",
     "output_type": "stream",
     "text": [
      "количество цифр: 4\n",
      "количество цифр: 6\n"
     ]
    }
   ],
   "source": [
    "# Задание 6\n",
    "\n",
    "def count_digits(number):\n",
    "    return len(str(abs(number)))\n",
    "\n",
    "result = count_digits(3456)\n",
    "print(f\"количество цифр: {result}\")\n",
    "\n",
    "result = count_digits(-987654)\n",
    "print(f\"количество цифр: {result}\")"
   ]
  },
  {
   "cell_type": "code",
   "execution_count": 16,
   "metadata": {},
   "outputs": [
    {
     "name": "stdout",
     "output_type": "stream",
     "text": [
      "True\n",
      "True\n",
      "False\n",
      "True\n"
     ]
    }
   ],
   "source": [
    "# Задание 7\n",
    "\n",
    "def is_palindrome(number):\n",
    "    number_str = str(abs(number))\n",
    "    return number_str == number_str[::-1]\n",
    "\n",
    "print(is_palindrome(123321))  \n",
    "print(is_palindrome(546645))  \n",
    "print(is_palindrome(421987))  \n",
    "print(is_palindrome(-12321)) "
   ]
  }
 ],
 "metadata": {
  "kernelspec": {
   "display_name": "Python 3",
   "language": "python",
   "name": "python3"
  },
  "language_info": {
   "codemirror_mode": {
    "name": "ipython",
    "version": 3
   },
   "file_extension": ".py",
   "mimetype": "text/x-python",
   "name": "python",
   "nbconvert_exporter": "python",
   "pygments_lexer": "ipython3",
   "version": "3.12.6"
  }
 },
 "nbformat": 4,
 "nbformat_minor": 2
}
