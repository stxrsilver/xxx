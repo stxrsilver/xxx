{
 "cells": [
  {
   "cell_type": "code",
   "execution_count": 1,
   "metadata": {},
   "outputs": [
    {
     "name": "stdout",
     "output_type": "stream",
     "text": [
      "Стоимость книги: 244.87749999999997 руб.\n",
      "Обновленная стоимость книги: 299.84999999999997 руб.\n"
     ]
    }
   ],
   "source": [
    "class Книга:\n",
    "    def __init__(self, title, author, year_of_publication, number_of_pages, price):\n",
    "        self.title = title\n",
    "        self.author = author\n",
    "        self.year_of_publication = year_of_publication\n",
    "        self.number_of_pages = number_of_pages\n",
    "        self.price = price\n",
    "\n",
    "    def calculate_cost(self):\n",
    "        return self.price * self.number_of_pages / 100\n",
    "\n",
    "    def change_number_of_pages(self, new_number):\n",
    "        self.number_of_pages = new_number\n",
    "\n",
    "book1 = Книга(\"Война и Мир\", \"Л. Толстой\", 1869, 1225, 19.99)\n",
    "print(f\"Стоимость книги: {book1.calculate_cost()} руб.\")\n",
    "book1.change_number_of_pages(1500)\n",
    "print(f\"Обновленная стоимость книги: {book1.calculate_cost()} руб.\")"
   ]
  },
  {
   "cell_type": "code",
   "execution_count": 2,
   "metadata": {},
   "outputs": [
    {
     "name": "stdout",
     "output_type": "stream",
     "text": [
      "Текущее значение счетчика: 2\n",
      "Текущее значение счетчика: 1\n",
      "Текущее значение счетчика: 0\n",
      "Текущее значение счетчика: 0\n"
     ]
    }
   ],
   "source": [
    "class Счетчик:\n",
    "    def __init__(self, initial_value=0):\n",
    "        self._value = initial_value\n",
    "\n",
    "    def increase(self):\n",
    "        self._value += 1\n",
    "\n",
    "    def decrease(self):\n",
    "        self._value = max(0, self._value - 1)\n",
    "\n",
    "    def get_value(self):\n",
    "        return self._value\n",
    "\n",
    "    def reset(self):\n",
    "        self._value = 0\n",
    "\n",
    "counter = Счетчик()\n",
    "counter.increase()\n",
    "counter.increase()\n",
    "print(f\"Текущее значение счетчика: {counter.get_value()}\")\n",
    "counter.decrease()\n",
    "print(f\"Текущее значение счетчика: {counter.get_value()}\")\n",
    "counter.decrease()\n",
    "counter.decrease()\n",
    "print(f\"Текущее значение счетчика: {counter.get_value()}\")\n",
    "counter.decrease()\n",
    "print(f\"Текущее значение счетчика: {counter.get_value()}\")"
   ]
  },
  {
   "cell_type": "code",
   "execution_count": 3,
   "metadata": {},
   "outputs": [
    {
     "name": "stdout",
     "output_type": "stream",
     "text": [
      "Баланс счета 1: 1500 руб.\n",
      "Баланс счета 1: 1300 руб.\n",
      "Баланс счета 2: 200 руб.\n",
      "Недостаточно средств на счете.\n",
      "Баланс счета 1: 1300 руб.\n"
     ]
    }
   ],
   "source": [
    "class БанковскийСчет:\n",
    "    def __init__(self, initial_balance=0):\n",
    "        self._balance = initial_balance\n",
    "\n",
    "    def deposit(self, amount):\n",
    "        if amount > 0:\n",
    "            self._balance += amount\n",
    "\n",
    "    def withdraw(self, amount):\n",
    "        if amount > 0:\n",
    "            if amount <= self._balance:\n",
    "                self._balance -= amount\n",
    "            else:\n",
    "                print(\"Недостаточно средств на счете.\")\n",
    "\n",
    "    def get_balance(self):\n",
    "        return self._balance\n",
    "\n",
    "    def transfer(self, other_account, amount):\n",
    "        if amount > 0:\n",
    "            if amount <= self._balance:\n",
    "                self._balance -= amount\n",
    "                other_account.deposit(amount)\n",
    "\n",
    "account1 = БанковскийСчет(1000)\n",
    "account2 = БанковскийСчет()\n",
    "\n",
    "account1.deposit(500)\n",
    "print(f\"Баланс счета 1: {account1.get_balance()} руб.\")\n",
    "\n",
    "account1.transfer(account2, 200)\n",
    "print(f\"Баланс счета 1: {account1.get_balance()} руб.\")\n",
    "print(f\"Баланс счета 2: {account2.get_balance()} руб.\")\n",
    "\n",
    "account1.withdraw(1500)\n",
    "print(f\"Баланс счета 1: {account1.get_balance()} руб.\")"
   ]
  }
 ],
 "metadata": {
  "kernelspec": {
   "display_name": "Python 3.8.10 64-bit",
   "language": "python",
   "name": "python3"
  },
  "language_info": {
   "codemirror_mode": {
    "name": "ipython",
    "version": 3
   },
   "file_extension": ".py",
   "mimetype": "text/x-python",
   "name": "python",
   "nbconvert_exporter": "python",
   "pygments_lexer": "ipython3",
   "version": "3.8.10"
  },
  "orig_nbformat": 4,
  "vscode": {
   "interpreter": {
    "hash": "0b176bb05cc15e1acf7692451fcf9bc2b5a39957eb7bd1c547fef102ee782caf"
   }
  }
 },
 "nbformat": 4,
 "nbformat_minor": 2
}
